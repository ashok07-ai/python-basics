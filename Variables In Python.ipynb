{
 "cells": [
  {
   "cell_type": "code",
   "execution_count": 1,
   "metadata": {},
   "outputs": [],
   "source": [
    "#Defination of Python\n",
    "# Python is an Object Oriented Programming Language\n",
    "# It is a interpreted language which executes code line by line"
   ]
  },
  {
   "cell_type": "code",
   "execution_count": 2,
   "metadata": {},
   "outputs": [],
   "source": [
    "# Fetatures of Python  \n",
    "# 1. It is Case Sensitive (For example: a and A are difference variables)  \n",
    "# 2. It is used in Aritificial Intelligence, Machine Learning, Data Science."
   ]
  },
  {
   "cell_type": "code",
   "execution_count": 3,
   "metadata": {},
   "outputs": [],
   "source": [
    "# Variables  \n",
    "# Variables are the containers used for holding the data. example (a = 1)  \n",
    "# Types of Variables\n",
    "# 1. Integer Variable  \n",
    "# 2. String Variable  \n",
    "# 3. Float Variable  \n",
    "# 4. Boolean Variable"
   ]
  },
  {
   "cell_type": "code",
   "execution_count": 5,
   "metadata": {},
   "outputs": [
    {
     "name": "stdout",
     "output_type": "stream",
     "text": [
      "10\n"
     ]
    }
   ],
   "source": [
    "# Integer Variable\n",
    "a = 10\n",
    "print(a)"
   ]
  },
  {
   "cell_type": "code",
   "execution_count": 6,
   "metadata": {},
   "outputs": [],
   "source": [
    "#Assigning the variables  \n",
    "# 1. Single Variable  \n",
    "a = 10;\n",
    "# 2. Multiple Varibale  \n",
    "x,y,z = 10,20,30  "
   ]
  },
  {
   "cell_type": "code",
   "execution_count": 7,
   "metadata": {},
   "outputs": [
    {
     "name": "stdout",
     "output_type": "stream",
     "text": [
      "<class 'str'>\n",
      "<class 'int'>\n"
     ]
    }
   ],
   "source": [
    "# Printing the type of value\n",
    "name = \"AI\"\n",
    "x = 5\n",
    "print(type(name))\n",
    "print(type(x))"
   ]
  },
  {
   "cell_type": "code",
   "execution_count": 8,
   "metadata": {},
   "outputs": [
    {
     "name": "stdout",
     "output_type": "stream",
     "text": [
      "Before Swapping: \n",
      "10 20\n",
      "After Swapping: \n",
      "20 10\n"
     ]
    }
   ],
   "source": [
    "# Swapping the the value of two variables\\\\n”,  \n",
    "a = 10;  \n",
    "b = 20;\n",
    "print(\"Before Swapping: \"); \n",
    "print(a,b);  \n",
    "\n",
    "a, b = b,a  \n",
    "  \n",
    "print(\"After Swapping: \");  \n",
    "print(a,b)  "
   ]
  },
  {
   "cell_type": "code",
   "execution_count": 12,
   "metadata": {},
   "outputs": [
    {
     "name": "stdout",
     "output_type": "stream",
     "text": [
      "Artificial Intellignece\n"
     ]
    },
    {
     "data": {
      "text/plain": [
       "str"
      ]
     },
     "execution_count": 12,
     "metadata": {},
     "output_type": "execute_result"
    }
   ],
   "source": [
    "# String Variable\n",
    "name = \"Artificial Intellignece\" \n",
    "print(name)  \n",
    "type(name)  "
   ]
  },
  {
   "cell_type": "code",
   "execution_count": 13,
   "metadata": {},
   "outputs": [
    {
     "name": "stdout",
     "output_type": "stream",
     "text": [
      "5.5\n"
     ]
    },
    {
     "data": {
      "text/plain": [
       "float"
      ]
     },
     "execution_count": 13,
     "metadata": {},
     "output_type": "execute_result"
    }
   ],
   "source": [
    "# Float Variable  \n",
    "float_var = 5.5;  \n",
    "print(float_var);  \n",
    "type(float_var)  "
   ]
  },
  {
   "cell_type": "code",
   "execution_count": 15,
   "metadata": {},
   "outputs": [
    {
     "name": "stdout",
     "output_type": "stream",
     "text": [
      "True\n",
      "<class 'bool'>\n"
     ]
    }
   ],
   "source": [
    "# Boolean Variable  \n",
    "bool_var = True  \n",
    "print(bool_var); \n",
    "print(type(bool_var)); "
   ]
  },
  {
   "cell_type": "code",
   "execution_count": 18,
   "metadata": {},
   "outputs": [
    {
     "name": "stdout",
     "output_type": "stream",
     "text": [
      "abxy\n",
      "40\n"
     ]
    }
   ],
   "source": [
    "# Operations that can be done with varialbes  \n",
    "a = 10;  \n",
    "b = 30;  \n",
    "x = \"ab\"\n",
    "y = \"xy\"  \n",
    "\n",
    "print(x + y)\n",
    "print(a+b); "
   ]
  },
  {
   "cell_type": "code",
   "execution_count": 19,
   "metadata": {},
   "outputs": [
    {
     "name": "stdout",
     "output_type": "stream",
     "text": [
      "0.5330490405117271\n"
     ]
    }
   ],
   "source": [
    "a = 12.50  \n",
    "b = 23.45  \n",
    "print(a/b)  "
   ]
  }
 ],
 "metadata": {
  "kernelspec": {
   "display_name": "Python 3",
   "language": "python",
   "name": "python3"
  },
  "language_info": {
   "codemirror_mode": {
    "name": "ipython",
    "version": 3
   },
   "file_extension": ".py",
   "mimetype": "text/x-python",
   "name": "python",
   "nbconvert_exporter": "python",
   "pygments_lexer": "ipython3",
   "version": "3.7.6"
  }
 },
 "nbformat": 4,
 "nbformat_minor": 4
}
