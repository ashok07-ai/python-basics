{
 "cells": [
  {
   "cell_type": "code",
   "execution_count": 1,
   "metadata": {},
   "outputs": [],
   "source": [
    "# List in python\n",
    "# List are an Ordered, Mutable(changable) collection of values that are comma separated and enclosed by square brackets[]\n",
    "# List is consist of any datatypes suchas string, integer, float, boolean etc.."
   ]
  },
  {
   "cell_type": "code",
   "execution_count": 2,
   "metadata": {},
   "outputs": [
    {
     "name": "stdout",
     "output_type": "stream",
     "text": [
      "[1, 2, 'John', 3.45, True]\n"
     ]
    }
   ],
   "source": [
    "# Creating a List\n",
    "data = [1, 2, \"John\", 3.45, True]\n",
    "print(data)"
   ]
  },
  {
   "cell_type": "code",
   "execution_count": 3,
   "metadata": {},
   "outputs": [
    {
     "name": "stdout",
     "output_type": "stream",
     "text": [
      "<class 'list'>\n"
     ]
    }
   ],
   "source": [
    "# Length of a list\n",
    "print(type(data))"
   ]
  },
  {
   "cell_type": "code",
   "execution_count": 8,
   "metadata": {},
   "outputs": [
    {
     "name": "stdout",
     "output_type": "stream",
     "text": [
      "[2, 4, 6, 8, 12]\n",
      "The length of list is:  5\n"
     ]
    }
   ],
   "source": [
    "# Adding an item to a List using\n",
    "# append() function is used to add a item\n",
    "list_of_even_numbers = [2, 4, 6, 8]\n",
    "list_of_even_numbers.append(12)\n",
    "print(list_of_even_numbers)\n",
    "print(\"The length of list is: \",len(list_of_even_numbers))"
   ]
  },
  {
   "cell_type": "code",
   "execution_count": 10,
   "metadata": {},
   "outputs": [
    {
     "name": "stdout",
     "output_type": "stream",
     "text": [
      "[2, 4, True, 8, 12]\n"
     ]
    }
   ],
   "source": [
    "# Replacing an item with other item in List\n",
    "# Example replacing the item 6 with True\n",
    "list_of_even_numbers[2] = True\n",
    "print(list_of_even_numbers)"
   ]
  },
  {
   "cell_type": "code",
   "execution_count": 11,
   "metadata": {},
   "outputs": [
    {
     "name": "stdout",
     "output_type": "stream",
     "text": [
      "[2, 4, 1, 3, 3, 'Apple', 'Orange', 'Banana', 'Mango']\n"
     ]
    }
   ],
   "source": [
    "# Operations performed in List\n",
    "# Add operations\n",
    "list_one = [2, 4, 1, 3, 3]\n",
    "list_two = [\"Apple\", \"Orange\", \"Banana\", \"Mango\"]\n",
    "total_list = list_one + list_two\n",
    "print(total_list)"
   ]
  },
  {
   "cell_type": "code",
   "execution_count": 13,
   "metadata": {},
   "outputs": [
    {
     "name": "stdout",
     "output_type": "stream",
     "text": [
      "[1, 3, 5, 'apple', 'mango', True, False, 2.45, '100.00', 'Mustang G-T']\n",
      "The length of datas is:  10\n",
      "The type of datas is:  <class 'list'>\n"
     ]
    }
   ],
   "source": [
    "# Example\n",
    "datas = [1, 3, 5, \"apple\", \"mango\", True, False, 2.45, 2.12]\n",
    "datas.append(\"Mustang G-T\")\n",
    "datas[8] = \"100.00\"\n",
    "print(datas)\n",
    "print(\"The length of datas is: \", len(datas))\n",
    "print(\"The type of datas is: \", type(datas))"
   ]
  },
  {
   "cell_type": "code",
   "execution_count": 14,
   "metadata": {},
   "outputs": [
    {
     "name": "stdout",
     "output_type": "stream",
     "text": [
      "['apple', 'mango']\n",
      "<class 'list'>\n"
     ]
    }
   ],
   "source": [
    "# list() constructor\n",
    "# We can create list using list() constructor\n",
    "list_datas_conc = list((\"apple\", \"mango\"))\n",
    "print(list_datas_conc)\n",
    "print(type(list_datas_conc))"
   ]
  },
  {
   "cell_type": "code",
   "execution_count": 20,
   "metadata": {},
   "outputs": [
    {
     "name": "stdout",
     "output_type": "stream",
     "text": [
      "The second item from the lsit is:  banana\n",
      "The last item from the list is:  2\n",
      "The second last item from the list is:  1\n",
      "The range of item from the list is:  ['Mango', 1]\n"
     ]
    }
   ],
   "source": [
    "# Performing different operations\n",
    "# 1. Print the second item from the list\n",
    "infos = [\"apple\", \"banana\", \"Mango\", 1, 2]\n",
    "print(\"The second item from the lsit is: \", infos[1])\n",
    "\n",
    "#2 Print the last item from the list\n",
    "print(\"The last item from the list is: \", infos[-1])\n",
    "\n",
    "#2 Print the second last item from the list\n",
    "print(\"The second last item from the list is: \", infos[-2])\n",
    "\n",
    "#2 Print the range of item from the list\n",
    "# Remember: The item in position 4 is not included\n",
    "print(\"The range of item from the list is: \", infos[2 : 4])"
   ]
  },
  {
   "cell_type": "code",
   "execution_count": 27,
   "metadata": {},
   "outputs": [
    {
     "name": "stdout",
     "output_type": "stream",
     "text": [
      "Yes it is present in list\n"
     ]
    }
   ],
   "source": [
    "# If condition in List\n",
    "list_of_numbers = [1, 2, 3, 4]\n",
    "if 3 in list_of_numbers:\n",
    "    print(\"Yes it is present in list\")\n",
    "else:\n",
    "    print(\"No the number is not present in the list\")"
   ]
  }
 ],
 "metadata": {
  "kernelspec": {
   "display_name": "Python 3",
   "language": "python",
   "name": "python3"
  },
  "language_info": {
   "codemirror_mode": {
    "name": "ipython",
    "version": 3
   },
   "file_extension": ".py",
   "mimetype": "text/x-python",
   "name": "python",
   "nbconvert_exporter": "python",
   "pygments_lexer": "ipython3",
   "version": "3.7.6"
  }
 },
 "nbformat": 4,
 "nbformat_minor": 4
}
